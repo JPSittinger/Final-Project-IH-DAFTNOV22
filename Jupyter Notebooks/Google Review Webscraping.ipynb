{
 "cells": [
  {
   "cell_type": "markdown",
   "id": "b5c63202",
   "metadata": {},
   "source": [
    "## More specific using selenium, javascript"
   ]
  },
  {
   "cell_type": "code",
   "execution_count": 63,
   "id": "73afbed7",
   "metadata": {},
   "outputs": [
    {
     "name": "stderr",
     "output_type": "stream",
     "text": [
      "C:\\Users\\JPSittinger\\AppData\\Local\\Temp\\ipykernel_12816\\4229483255.py:12: DeprecationWarning: use options instead of chrome_options\n",
      "  driver = webdriver.Chrome(chrome_options=chrome_options)\n"
     ]
    }
   ],
   "source": [
    "from selenium import webdriver\n",
    "from bs4 import BeautifulSoup\n",
    "import time\n",
    "from selenium.webdriver.common.action_chains import ActionChains\n",
    "from selenium.webdriver.common.keys import Keys\n",
    "from selenium.webdriver.common.by import By\n",
    "import random\n",
    "\n",
    "# Load the website using a webdriver\n",
    "chrome_options=webdriver.ChromeOptions()\n",
    "chrome_options.add_argument(\"--incognito\")\n",
    "driver = webdriver.Chrome(chrome_options=chrome_options)\n",
    "\n",
    "driver.get(\"https://www.google.com/search?q=hornbach+rottweil&rlz=1C1PRFI_enDE790DE790&oq=hornbach+rottweil&aqs=chrome..69i57.4365j0j9&sourceid=chrome&ie=UTF-8#lrd=0x4790a384d2c9d657:0x67ed9ae12ca5867a,1,,,,\")\n",
    "# Wait for 4 seconds\n",
    "time.sleep(4)\n",
    "\n",
    "# Click on google consent\n",
    "driver.find_element(\"xpath\",'//*[@id=\"W0wltc\"]').click()\n",
    "# Wait for 5 seconds\n",
    "time.sleep(random.randint(3,5))\n",
    "\n",
    "# Click on sort by newest\n",
    "driver.find_element(\"xpath\",'/html/body/span[2]/g-lightbox/div/div[2]/div[3]/span/div/div/div/div[2]/div[3]/g-scrolling-carousel/div[1]/div/div[2]').click()\n",
    "# Wait for 3 seconds\n",
    "time.sleep(3)\n",
    "\n",
    "# Find the total number of reviews and scroll down\n",
    "total_number_of_reviews = driver.find_element(\"xpath\",'//*[@id=\"gsr\"]/span[2]/g-lightbox/div/div[2]/div[3]/span/div/div/div/div[1]/div[3]/div[1]/div/span/span').text.split(\" \")[0]\n",
    "total_number_of_reviews = int(total_number_of_reviews.replace('.','')) if '.' in total_number_of_reviews else int(total_number_of_reviews)\n",
    "\n",
    "# Find scroll-element\n",
    "scrollable_div = driver.find_element(\"xpath\",'//*[@id=\"gsr\"]/span[2]/g-lightbox/div/div[2]/div[3]/span/div/div/div/div[2]')\n",
    "# NEED TO CHANGE 100 BACK TO 10 FOR ALL REVIEWS\n",
    "for i in range(0,(round(total_number_of_reviews/18 - 1))):\n",
    "        driver.execute_script('arguments[0].scrollTop = arguments[0].scrollHeight', \n",
    "                scrollable_div)\n",
    "        time.sleep(random.randint(2,5))"
   ]
  },
  {
   "cell_type": "code",
   "execution_count": 64,
   "id": "464a008d",
   "metadata": {},
   "outputs": [],
   "source": [
    "for elements in driver.find_elements(By.CLASS_NAME, \"review-more-link\"):\n",
    "    try:\n",
    "        elements.click()\n",
    "    except:\n",
    "        pass"
   ]
  },
  {
   "cell_type": "code",
   "execution_count": 65,
   "id": "a44a5c03",
   "metadata": {},
   "outputs": [],
   "source": [
    "# wait for elements to load\n",
    "time.sleep(10)\n",
    "\n",
    "# extract the HTML using BeautifulSoup\n",
    "html = driver.page_source\n",
    "soup = BeautifulSoup(html, 'html.parser')\n",
    "\n",
    "# do web scraping here\n",
    "\n",
    "# # close the browser\n",
    "# browser.close()"
   ]
  },
  {
   "cell_type": "code",
   "execution_count": 66,
   "id": "9c6f8d62",
   "metadata": {},
   "outputs": [],
   "source": [
    "review_elements = soup.find_all('div', {'jscontroller': 'fIQYlf'})"
   ]
  },
  {
   "cell_type": "code",
   "execution_count": 67,
   "id": "4cc23cac",
   "metadata": {},
   "outputs": [],
   "source": [
    "# review_elements"
   ]
  },
  {
   "cell_type": "code",
   "execution_count": 68,
   "id": "17853b1b",
   "metadata": {},
   "outputs": [],
   "source": [
    "# create empty lists to store the scraped data\n",
    "dates = []\n",
    "stars = []\n",
    "reviews = []"
   ]
  },
  {
   "cell_type": "code",
   "execution_count": 69,
   "id": "7a6ad683",
   "metadata": {},
   "outputs": [],
   "source": [
    "# iterate through the review elements and extract the data\n",
    "for review in review_elements:\n",
    "    date = review.find('span', {'class': 'dehysf lTi8oc'}).text\n",
    "    star = review.find('span', {'class': 'Fam1ne EBe2gf'})['aria-label']\n",
    "    \n",
    "    dates.append(date)\n",
    "    stars.append(star)"
   ]
  },
  {
   "cell_type": "code",
   "execution_count": 70,
   "id": "527687d8",
   "metadata": {},
   "outputs": [],
   "source": [
    "# Reviews turn out to be tricky because they are hidden in different classes, so separate loop for them:\n",
    "\n",
    "reviews = []\n",
    "for review in review_elements:\n",
    "    review_text = review.find('span', {'class': 'review-full-text'})\n",
    "    if review_text:\n",
    "        reviews.append(review_text.text)\n",
    "    else:\n",
    "        review_text = review.find('div', {'class': 'Jtu6Td'})\n",
    "        if review_text:\n",
    "            reviews.append(review_text.text)\n",
    "        else:\n",
    "            reviews.append('None')"
   ]
  },
  {
   "cell_type": "code",
   "execution_count": 71,
   "id": "911a9460",
   "metadata": {},
   "outputs": [],
   "source": [
    "# reviews"
   ]
  },
  {
   "cell_type": "code",
   "execution_count": 72,
   "id": "516142c5",
   "metadata": {},
   "outputs": [],
   "source": [
    "# Cleaning up the dates list\n",
    "\n",
    "cleaned_dates = [date.replace(\"vor \", \"\").replace(\"\\xa0\", \" \").replace(\"einem\", \"1\").replace(\"einer\", \"1\") for date in dates]\n",
    "# print(cleaned_dates)"
   ]
  },
  {
   "cell_type": "code",
   "execution_count": 73,
   "id": "fa702f18",
   "metadata": {},
   "outputs": [],
   "source": [
    "# Cleaning up the stars\n",
    "\n",
    "cleaned_stars = [star.replace(\"Bewertung: \", \"\").replace(\",0 von 5,\", \"\") for star in stars]\n",
    "# print(cleaned_stars)"
   ]
  },
  {
   "cell_type": "markdown",
   "id": "8143b7bc",
   "metadata": {},
   "source": [
    "### Creating relative time columns for the \"... time ago\" values in cleaned_dates"
   ]
  },
  {
   "cell_type": "code",
   "execution_count": 74,
   "id": "53ef6849",
   "metadata": {},
   "outputs": [],
   "source": [
    "import pandas as pd\n",
    "dates_df = {'date': cleaned_dates}\n",
    "dates_df = pd.DataFrame(dates_df)\n",
    "# dates_df"
   ]
  },
  {
   "cell_type": "code",
   "execution_count": 75,
   "id": "f26fbad4",
   "metadata": {},
   "outputs": [
    {
     "name": "stdout",
     "output_type": "stream",
     "text": [
      "2023-01-31 17:52:58.182233\n",
      "2023-01-29 21:52:58.182233\n",
      "2023-01-10 21:52:58.182233\n",
      "2022-07-05 21:52:58.182233\n",
      "2021-01-31 21:52:58.182233\n"
     ]
    }
   ],
   "source": [
    "# Defining function that calculates the timedelta for certain strings in the date column\n",
    "\n",
    "from datetime import datetime, timedelta\n",
    "\n",
    "def get_relative_datetime(time_string):\n",
    "    current_time = datetime.now()\n",
    "    time_dict = {\"Stunde\": timedelta(hours=1),\n",
    "                 \"Stunden\": timedelta(hours=1),\n",
    "                 \"Tag\": timedelta(days=1),\n",
    "                 \"Tagen\": timedelta(days=1),\n",
    "                 \"Woche\": timedelta(weeks=1),\n",
    "                 \"Wochen\": timedelta(weeks=1),\n",
    "                 \"Monat\": timedelta(days=30),\n",
    "                 \"Monaten\": timedelta(days=30),\n",
    "                 \"Jahr\": timedelta(days=365),\n",
    "                 \"Jahren\": timedelta(days=365)}\n",
    "    num, unit = time_string.split(\" \")\n",
    "    relative_time = current_time - int(num) * time_dict[unit]\n",
    "    return relative_time\n",
    "\n",
    "# Testing with hours, days, weeks, months and years (all available time-values)\n",
    "print(get_relative_datetime(\"4 Stunden\"))\n",
    "print(get_relative_datetime(\"2 Tagen\"))\n",
    "print(get_relative_datetime(\"3 Wochen\"))\n",
    "print(get_relative_datetime(\"7 Monaten\"))\n",
    "print(get_relative_datetime(\"2 Jahren\"))\n"
   ]
  },
  {
   "cell_type": "code",
   "execution_count": 76,
   "id": "f6e35bfe",
   "metadata": {},
   "outputs": [],
   "source": [
    "# Applying the function to all values in the date column and returning (overly specific) relative dates\n",
    "dates_df[\"relative_dates\"] = dates_df[\"date\"].apply(get_relative_datetime)"
   ]
  },
  {
   "cell_type": "code",
   "execution_count": 77,
   "id": "3dab7fc3",
   "metadata": {},
   "outputs": [],
   "source": [
    "# dates_df"
   ]
  },
  {
   "cell_type": "code",
   "execution_count": 78,
   "id": "7e3a0928",
   "metadata": {},
   "outputs": [],
   "source": [
    "# Creating a new column with only year and month of when the review was roughly written\n",
    "dates_df[\"year_month\"] = dates_df[\"relative_dates\"].apply(lambda x: x.strftime(\"%m/%Y\"))\n",
    "# dates_df"
   ]
  },
  {
   "cell_type": "code",
   "execution_count": 79,
   "id": "0019170f",
   "metadata": {},
   "outputs": [
    {
     "data": {
      "text/html": [
       "<div>\n",
       "<style scoped>\n",
       "    .dataframe tbody tr th:only-of-type {\n",
       "        vertical-align: middle;\n",
       "    }\n",
       "\n",
       "    .dataframe tbody tr th {\n",
       "        vertical-align: top;\n",
       "    }\n",
       "\n",
       "    .dataframe thead th {\n",
       "        text-align: right;\n",
       "    }\n",
       "</style>\n",
       "<table border=\"1\" class=\"dataframe\">\n",
       "  <thead>\n",
       "    <tr style=\"text-align: right;\">\n",
       "      <th></th>\n",
       "      <th>date</th>\n",
       "      <th>relative_dates</th>\n",
       "      <th>year_month</th>\n",
       "      <th>stars</th>\n",
       "      <th>review</th>\n",
       "    </tr>\n",
       "  </thead>\n",
       "  <tbody>\n",
       "    <tr>\n",
       "      <th>0</th>\n",
       "      <td>10 Stunden</td>\n",
       "      <td>2023-01-31 11:52:58.218241</td>\n",
       "      <td>01/2023</td>\n",
       "      <td>4</td>\n",
       "      <td>Bisher gute Erfahrungen gemacht.  Hier wird ma...</td>\n",
       "    </tr>\n",
       "    <tr>\n",
       "      <th>1</th>\n",
       "      <td>13 Stunden</td>\n",
       "      <td>2023-01-31 08:52:58.218241</td>\n",
       "      <td>01/2023</td>\n",
       "      <td>5</td>\n",
       "      <td></td>\n",
       "    </tr>\n",
       "    <tr>\n",
       "      <th>2</th>\n",
       "      <td>1 Tag</td>\n",
       "      <td>2023-01-30 21:52:58.218241</td>\n",
       "      <td>01/2023</td>\n",
       "      <td>5</td>\n",
       "      <td></td>\n",
       "    </tr>\n",
       "    <tr>\n",
       "      <th>3</th>\n",
       "      <td>1 Tag</td>\n",
       "      <td>2023-01-30 21:52:58.218241</td>\n",
       "      <td>01/2023</td>\n",
       "      <td>5</td>\n",
       "      <td>Es gibt alles was man braucht, die Preise sind...</td>\n",
       "    </tr>\n",
       "    <tr>\n",
       "      <th>4</th>\n",
       "      <td>1 Tag</td>\n",
       "      <td>2023-01-30 21:52:58.218241</td>\n",
       "      <td>01/2023</td>\n",
       "      <td>3</td>\n",
       "      <td></td>\n",
       "    </tr>\n",
       "    <tr>\n",
       "      <th>...</th>\n",
       "      <td>...</td>\n",
       "      <td>...</td>\n",
       "      <td>...</td>\n",
       "      <td>...</td>\n",
       "      <td>...</td>\n",
       "    </tr>\n",
       "    <tr>\n",
       "      <th>1935</th>\n",
       "      <td>3 Jahren</td>\n",
       "      <td>2020-02-01 21:52:58.236257</td>\n",
       "      <td>02/2020</td>\n",
       "      <td>4</td>\n",
       "      <td></td>\n",
       "    </tr>\n",
       "    <tr>\n",
       "      <th>1936</th>\n",
       "      <td>3 Jahren</td>\n",
       "      <td>2020-02-01 21:52:58.236257</td>\n",
       "      <td>02/2020</td>\n",
       "      <td>5</td>\n",
       "      <td></td>\n",
       "    </tr>\n",
       "    <tr>\n",
       "      <th>1937</th>\n",
       "      <td>3 Jahren</td>\n",
       "      <td>2020-02-01 21:52:58.236257</td>\n",
       "      <td>02/2020</td>\n",
       "      <td>5</td>\n",
       "      <td>Einfach nur gutm</td>\n",
       "    </tr>\n",
       "    <tr>\n",
       "      <th>1938</th>\n",
       "      <td>3 Jahren</td>\n",
       "      <td>2020-02-01 21:52:58.236257</td>\n",
       "      <td>02/2020</td>\n",
       "      <td>3</td>\n",
       "      <td></td>\n",
       "    </tr>\n",
       "    <tr>\n",
       "      <th>1939</th>\n",
       "      <td>3 Jahren</td>\n",
       "      <td>2020-02-01 21:52:58.236257</td>\n",
       "      <td>02/2020</td>\n",
       "      <td>5</td>\n",
       "      <td></td>\n",
       "    </tr>\n",
       "  </tbody>\n",
       "</table>\n",
       "<p>1940 rows × 5 columns</p>\n",
       "</div>"
      ],
      "text/plain": [
       "            date             relative_dates year_month stars  \\\n",
       "0     10 Stunden 2023-01-31 11:52:58.218241    01/2023     4   \n",
       "1     13 Stunden 2023-01-31 08:52:58.218241    01/2023     5   \n",
       "2          1 Tag 2023-01-30 21:52:58.218241    01/2023     5   \n",
       "3          1 Tag 2023-01-30 21:52:58.218241    01/2023     5   \n",
       "4          1 Tag 2023-01-30 21:52:58.218241    01/2023     3   \n",
       "...          ...                        ...        ...   ...   \n",
       "1935    3 Jahren 2020-02-01 21:52:58.236257    02/2020     4   \n",
       "1936    3 Jahren 2020-02-01 21:52:58.236257    02/2020     5   \n",
       "1937    3 Jahren 2020-02-01 21:52:58.236257    02/2020     5   \n",
       "1938    3 Jahren 2020-02-01 21:52:58.236257    02/2020     3   \n",
       "1939    3 Jahren 2020-02-01 21:52:58.236257    02/2020     5   \n",
       "\n",
       "                                                 review  \n",
       "0     Bisher gute Erfahrungen gemacht.  Hier wird ma...  \n",
       "1                                                        \n",
       "2                                                        \n",
       "3     Es gibt alles was man braucht, die Preise sind...  \n",
       "4                                                        \n",
       "...                                                 ...  \n",
       "1935                                                     \n",
       "1936                                                     \n",
       "1937                                   Einfach nur gutm  \n",
       "1938                                                     \n",
       "1939                                                     \n",
       "\n",
       "[1940 rows x 5 columns]"
      ]
     },
     "execution_count": 79,
     "metadata": {},
     "output_type": "execute_result"
    }
   ],
   "source": [
    "# Creating a full dataframe of dates, stars and reviews\n",
    "\n",
    "df_full = dates_df.assign(stars=cleaned_stars, review=reviews)\n",
    "df_full"
   ]
  },
  {
   "cell_type": "code",
   "execution_count": 80,
   "id": "289e1a68",
   "metadata": {},
   "outputs": [],
   "source": [
    "# df_full.head(-60)"
   ]
  },
  {
   "cell_type": "code",
   "execution_count": 81,
   "id": "20934e03",
   "metadata": {},
   "outputs": [],
   "source": [
    "# # create a dataframe to store the scraped data\n",
    "# data = {'date': dates, 'stars': stars, 'review': reviews}\n",
    "# df = pd.DataFrame(data)\n",
    "\n",
    "# export the dataframe to a csv file\n",
    "df_full.to_csv('HORNBACH_Rottweil.csv', index=False)"
   ]
  },
  {
   "cell_type": "code",
   "execution_count": null,
   "id": "7729c97f",
   "metadata": {},
   "outputs": [],
   "source": []
  }
 ],
 "metadata": {
  "kernelspec": {
   "display_name": "Python 3 (ipykernel)",
   "language": "python",
   "name": "python3"
  },
  "language_info": {
   "codemirror_mode": {
    "name": "ipython",
    "version": 3
   },
   "file_extension": ".py",
   "mimetype": "text/x-python",
   "name": "python",
   "nbconvert_exporter": "python",
   "pygments_lexer": "ipython3",
   "version": "3.9.12"
  },
  "vscode": {
   "interpreter": {
    "hash": "916901898e03509a63d98db5055e01413d14df687013e226b660dda6afed07d4"
   }
  }
 },
 "nbformat": 4,
 "nbformat_minor": 5
}
